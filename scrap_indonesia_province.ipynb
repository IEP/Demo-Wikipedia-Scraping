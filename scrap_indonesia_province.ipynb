{
 "cells": [
  {
   "cell_type": "code",
   "execution_count": 29,
   "id": "vocal-audience",
   "metadata": {},
   "outputs": [],
   "source": [
    "from selenium import webdriver\n",
    "from collections import defaultdict\n",
    "import pandas as pd\n",
    "\n",
    "driver = webdriver.Chrome()"
   ]
  },
  {
   "cell_type": "code",
   "execution_count": 30,
   "id": "turkish-norwegian",
   "metadata": {},
   "outputs": [],
   "source": [
    "driver.get(\"https://id.wikipedia.org/wiki/Provinsi_di_Indonesia\")"
   ]
  },
  {
   "cell_type": "code",
   "execution_count": 31,
   "id": "former-wales",
   "metadata": {},
   "outputs": [],
   "source": [
    "data = defaultdict(list)\n",
    "column_list_td = [\"pulau\", \"singkatan_iso\", \"ibu_kota\", \"diresmikan_sebagai_provinsi\", \"populasi_proyeksi_bps_2020\", \"luas_total_km2\", \"populasi_per_luas_jiwa_per_km2\",\n",
    "                  \"apbd_2020_miliar_rupiah\", \"pdrb_2020_triliun_rupiah\", \"pdrb_per_kapita_2020_juta_rupiah\", \"ipm_2020\", \"agama_approx_2020\"]\n",
    "for row in driver.find_elements_by_xpath('//*[@id=\"mw-content-text\"]/div[1]/table[1]/tbody/tr'):\n",
    "    for idx, col in enumerate(row.find_elements_by_xpath(\".//td\")):\n",
    "        data[column_list_td[idx]].append(col.text)\n",
    "    data[\"provinsi\"].append(row.find_element_by_xpath(\".//th\").text)"
   ]
  },
  {
   "cell_type": "code",
   "execution_count": 32,
   "id": "classical-preservation",
   "metadata": {},
   "outputs": [],
   "source": [
    "pd.DataFrame(data).to_csv(\"result.csv\", index=False)"
   ]
  }
 ],
 "metadata": {
  "kernelspec": {
   "display_name": "Python 3",
   "language": "python",
   "name": "python3"
  },
  "language_info": {
   "codemirror_mode": {
    "name": "ipython",
    "version": 3
   },
   "file_extension": ".py",
   "mimetype": "text/x-python",
   "name": "python",
   "nbconvert_exporter": "python",
   "pygments_lexer": "ipython3",
   "version": "3.8.5"
  }
 },
 "nbformat": 4,
 "nbformat_minor": 5
}
